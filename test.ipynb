{
 "cells": [
  {
   "cell_type": "code",
   "execution_count": 14,
   "metadata": {},
   "outputs": [
    {
     "data": {
      "application/vnd.jupyter.widget-view+json": {
       "model_id": "04d79ef3e7e34e3ea988de8c4020836d",
       "version_major": 2,
       "version_minor": 0
      },
      "text/plain": [
       "HBox(children=(Label(value='LV speed (m/s)'), FloatText(value=0.0)))"
      ]
     },
     "metadata": {},
     "output_type": "display_data"
    },
    {
     "data": {
      "application/vnd.jupyter.widget-view+json": {
       "model_id": "b21098e8a94542939ada4b58b1ea66c5",
       "version_major": 2,
       "version_minor": 0
      },
      "text/plain": [
       "HBox(children=(Label(value='LV deceleration onset time (s)'), FloatText(value=0.0)))"
      ]
     },
     "metadata": {},
     "output_type": "display_data"
    },
    {
     "data": {
      "application/vnd.jupyter.widget-view+json": {
       "model_id": "bdfb6bd87a9340ab8df5dfb806cf6d54",
       "version_major": 2,
       "version_minor": 0
      },
      "text/plain": [
       "HBox(children=(Label(value='LV deceleration magnitude (m/s^3)'), FloatText(value=0.0)))"
      ]
     },
     "metadata": {},
     "output_type": "display_data"
    },
    {
     "data": {
      "application/vnd.jupyter.widget-view+json": {
       "model_id": "a4124b4981b2448e81b5d136ea89f71f",
       "version_major": 2,
       "version_minor": 0
      },
      "text/plain": [
       "Checkbox(value=True, description='Stop deceleration')"
      ]
     },
     "metadata": {},
     "output_type": "display_data"
    },
    {
     "data": {
      "application/vnd.jupyter.widget-view+json": {
       "model_id": "7be86feb5faa430a95f99448ce7cb939",
       "version_major": 2,
       "version_minor": 0
      },
      "text/plain": [
       "HBox(children=(Label(value='LV min speed (m/s)'), FloatText(value=0.0)))"
      ]
     },
     "metadata": {},
     "output_type": "display_data"
    },
    {
     "data": {
      "application/vnd.jupyter.widget-view+json": {
       "model_id": "64b69ccc1f6f46b3b799bbb13127df5b",
       "version_major": 2,
       "version_minor": 0
      },
      "text/plain": [
       "Button(description='Simulate', style=ButtonStyle())"
      ]
     },
     "metadata": {},
     "output_type": "display_data"
    },
    {
     "data": {
      "application/vnd.jupyter.widget-view+json": {
       "model_id": "a38f1ba9a7254ac5945333431c48bfa3",
       "version_major": 2,
       "version_minor": 0
      },
      "text/plain": [
       "Output()"
      ]
     },
     "metadata": {},
     "output_type": "display_data"
    }
   ],
   "source": [
    "import ipywidgets as widgets\n",
    "from IPython.display import display\n",
    "import math\n",
    "import numpy as np\n",
    "import matplotlib.pyplot as plt\n",
    "from simulate import run_simulation\n",
    " \n",
    "    \n",
    "TIME_STEP = 0.1\n",
    "END_TIME = 10\n",
    "\n",
    "lv_speed_float_text = widgets.FloatText()\n",
    "lv_dot_float_text = widgets.FloatText()\n",
    "lv_dec_float_text = widgets.FloatText()\n",
    "lv_speed_hbox = widgets.HBox([widgets.Label(value = 'LV speed (m/s)'), lv_speed_float_text]) \n",
    "lv_dot_hbox = widgets.HBox([widgets.Label(value = 'LV deceleration onset time (s)'), lv_dot_float_text]) \n",
    "lv_dec_hbox = widgets.HBox([widgets.Label(value = 'LV deceleration magnitude (m/s^3)'), lv_dec_float_text])\n",
    "\n",
    "lv_min_speed_check = widgets.Checkbox(description='Stop deceleration', value = True)\n",
    "\n",
    "\n",
    "lv_min_speed_float_text = widgets.FloatText()\n",
    "lv_min_speed_hbox = widgets.HBox([widgets.Label(value = 'LV min speed (m/s)'), lv_min_speed_float_text]) \n",
    "\n",
    "simulate_button = widgets.Button(description = 'Simulate')\n",
    "output = widgets.Output()\n",
    "\n",
    "\n",
    "    \n",
    "def on_sim_btn_clicked(b):\n",
    "    output.clear_output()\n",
    "    with output:\n",
    "        lv_speed = lv_speed_float_text.value\n",
    "        lv_dot = lv_dot_float_text.value\n",
    "        lv_dec = lv_dec_float_text.value\n",
    "        limit_lv_speed = lv_min_speed_check.value\n",
    "        lv_min_speed = lv_min_speed_float_text.value\n",
    "        (time_stamp, speed) = run_simulation(TIME_STEP, END_TIME, lv_speed, \n",
    "                                             lv_dot, lv_dec, limit_lv_speed, lv_min_speed)\n",
    "        plt.plot(time_stamp, speed)\n",
    "        plt.show()\n",
    "\n",
    "simulate_button.on_click(on_sim_btn_clicked)\n",
    "\n",
    "def on_check_change(c):\n",
    "    if lv_min_speed_check.value:\n",
    "        lv_min_speed_hbox.layout.visibility = 'visible'\n",
    "        lv_min_speed_hbox.layout.height = 'auto'\n",
    "    else:\n",
    "        lv_min_speed_hbox.layout.visibility = 'hidden'    \n",
    "        lv_min_speed_hbox.layout.height = '0px'\n",
    "\n",
    "lv_min_speed_check.observe(on_check_change, names='value')\n",
    "        \n",
    "display(lv_speed_hbox)\n",
    "display(lv_dot_hbox)\n",
    "display(lv_dec_hbox)\n",
    "display(lv_min_speed_check)\n",
    "display(lv_min_speed_hbox)\n",
    "display(simulate_button)\n",
    "display(output)"
   ]
  },
  {
   "cell_type": "code",
   "execution_count": null,
   "metadata": {},
   "outputs": [],
   "source": []
  }
 ],
 "metadata": {
  "kernelspec": {
   "display_name": "Python 3",
   "language": "python",
   "name": "python3"
  },
  "language_info": {
   "codemirror_mode": {
    "name": "ipython",
    "version": 3
   },
   "file_extension": ".py",
   "mimetype": "text/x-python",
   "name": "python",
   "nbconvert_exporter": "python",
   "pygments_lexer": "ipython3",
   "version": "3.7.6"
  }
 },
 "nbformat": 4,
 "nbformat_minor": 4
}
