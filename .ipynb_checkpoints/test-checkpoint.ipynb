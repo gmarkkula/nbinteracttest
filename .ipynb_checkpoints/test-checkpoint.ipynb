{
 "cells": [
  {
   "cell_type": "code",
   "execution_count": 1,
   "metadata": {},
   "outputs": [
    {
     "data": {
      "application/vnd.jupyter.widget-view+json": {
       "model_id": "685c73aa606e4552ac897490695315ff",
       "version_major": 2,
       "version_minor": 0
      },
      "text/plain": [
       "HBox(children=(Label(value='LV speed (m/s)'), FloatText(value=0.0)))"
      ]
     },
     "metadata": {},
     "output_type": "display_data"
    },
    {
     "data": {
      "application/vnd.jupyter.widget-view+json": {
       "model_id": "d5ca10e5fe144cb9868e30a961523540",
       "version_major": 2,
       "version_minor": 0
      },
      "text/plain": [
       "HBox(children=(Label(value='LV deceleration onset time (s)'), FloatText(value=0.0)))"
      ]
     },
     "metadata": {},
     "output_type": "display_data"
    },
    {
     "data": {
      "application/vnd.jupyter.widget-view+json": {
       "model_id": "a19bfa0ec37147f385d805bae507a3c7",
       "version_major": 2,
       "version_minor": 0
      },
      "text/plain": [
       "HBox(children=(Label(value='LV deceleration magnitude (m/s^3)'), FloatText(value=0.0)))"
      ]
     },
     "metadata": {},
     "output_type": "display_data"
    },
    {
     "data": {
      "application/vnd.jupyter.widget-view+json": {
       "model_id": "ec6bb9b104754c14a196c70c63534e24",
       "version_major": 2,
       "version_minor": 0
      },
      "text/plain": [
       "Button(description='Simulate', style=ButtonStyle())"
      ]
     },
     "metadata": {},
     "output_type": "display_data"
    },
    {
     "data": {
      "application/vnd.jupyter.widget-view+json": {
       "model_id": "17d2d551dda041e78335509cbafcd2b2",
       "version_major": 2,
       "version_minor": 0
      },
      "text/plain": [
       "Output()"
      ]
     },
     "metadata": {},
     "output_type": "display_data"
    }
   ],
   "source": [
    "import ipywidgets as widgets\n",
    "from IPython.display import display\n",
    "import math\n",
    "import numpy as np\n",
    "import matplotlib.pyplot as plt\n",
    " \n",
    "    \n",
    "TIME_STEP = 0.1\n",
    "END_TIME = 10\n",
    "TIME_STAMP = np.arange(0, END_TIME, TIME_STEP)\n",
    "N_TIME_STEPS = len(TIME_STAMP)\n",
    "\n",
    "lv_speed_float_text = widgets.FloatText()\n",
    "lv_dot_float_text = widgets.FloatText()\n",
    "lv_dec_float_text = widgets.FloatText()\n",
    "lv_speed_hbox = widgets.HBox([widgets.Label(value = 'LV speed (m/s)'), lv_speed_float_text]) \n",
    "lv_dot_hbox = widgets.HBox([widgets.Label(value = 'LV deceleration onset time (s)'), lv_dot_float_text]) \n",
    "lv_dec_hbox = widgets.HBox([widgets.Label(value = 'LV deceleration magnitude (m/s^3)'), lv_dec_float_text])\n",
    "simulate_button = widgets.Button(description = 'Simulate')\n",
    "output = widgets.Output()\n",
    "\n",
    "\n",
    "def on_sim_btn_clicked(b):\n",
    "    output.clear_output()\n",
    "    with output:\n",
    "        acc = np.zeros(len(TIME_STAMP))\n",
    "        dot = lv_dot_float_text.value\n",
    "        dot_time_step = np.nonzero(TIME_STAMP >= dot)[0][0]\n",
    "        acc[dot_time_step:] = -lv_dec_float_text.value\n",
    "        speed = np.full(len(TIME_STAMP), lv_speed_float_text.value)\n",
    "        speed += np.cumsum(acc * TIME_STEP)\n",
    "        plt.plot(TIME_STAMP, speed)\n",
    "        plt.show()\n",
    "\n",
    "simulate_button.on_click(on_sim_btn_clicked)\n",
    "        \n",
    "display(lv_speed_hbox)\n",
    "display(lv_dot_hbox)\n",
    "display(lv_dec_hbox)\n",
    "display(simulate_button)\n",
    "display(output)"
   ]
  },
  {
   "cell_type": "code",
   "execution_count": null,
   "metadata": {},
   "outputs": [],
   "source": []
  }
 ],
 "metadata": {
  "kernelspec": {
   "display_name": "Python 3",
   "language": "python",
   "name": "python3"
  },
  "language_info": {
   "codemirror_mode": {
    "name": "ipython",
    "version": 3
   },
   "file_extension": ".py",
   "mimetype": "text/x-python",
   "name": "python",
   "nbconvert_exporter": "python",
   "pygments_lexer": "ipython3",
   "version": "3.7.6"
  }
 },
 "nbformat": 4,
 "nbformat_minor": 4
}
