{
 "cells": [
  {
   "cell_type": "code",
   "execution_count": 12,
   "metadata": {},
   "outputs": [
    {
     "data": {
      "application/vnd.jupyter.widget-view+json": {
       "model_id": "459562eed272440b96aa4e08312acdaa",
       "version_major": 2,
       "version_minor": 0
      },
      "text/plain": [
       "HBox(children=(Label(value='LV speed (m/s)'), FloatText(value=0.0)))"
      ]
     },
     "metadata": {},
     "output_type": "display_data"
    },
    {
     "data": {
      "application/vnd.jupyter.widget-view+json": {
       "model_id": "3b55d2d90f98452dad7182223c6b7f1b",
       "version_major": 2,
       "version_minor": 0
      },
      "text/plain": [
       "HBox(children=(Label(value='LV deceleration onset time (s)'), FloatText(value=0.0)))"
      ]
     },
     "metadata": {},
     "output_type": "display_data"
    },
    {
     "data": {
      "application/vnd.jupyter.widget-view+json": {
       "model_id": "3f6d516e9d5b467c9e30dd97246b8879",
       "version_major": 2,
       "version_minor": 0
      },
      "text/plain": [
       "HBox(children=(Label(value='LV deceleration magnitude (m/s^3)'), FloatText(value=0.0)))"
      ]
     },
     "metadata": {},
     "output_type": "display_data"
    },
    {
     "data": {
      "application/vnd.jupyter.widget-view+json": {
       "model_id": "5605813393c94a7cb66d1571333e8728",
       "version_major": 2,
       "version_minor": 0
      },
      "text/plain": [
       "Checkbox(value=True, description='Stop deceleration')"
      ]
     },
     "metadata": {},
     "output_type": "display_data"
    },
    {
     "data": {
      "application/vnd.jupyter.widget-view+json": {
       "model_id": "50be86a0d38c40d1b8f0ea8f92602923",
       "version_major": 2,
       "version_minor": 0
      },
      "text/plain": [
       "HBox(children=(Label(value='LV min speed (m/s)'), FloatText(value=0.0)))"
      ]
     },
     "metadata": {},
     "output_type": "display_data"
    },
    {
     "data": {
      "application/vnd.jupyter.widget-view+json": {
       "model_id": "a9ab663e41bf440595c321b5f529e519",
       "version_major": 2,
       "version_minor": 0
      },
      "text/plain": [
       "Button(description='Simulate', style=ButtonStyle())"
      ]
     },
     "metadata": {},
     "output_type": "display_data"
    },
    {
     "data": {
      "application/vnd.jupyter.widget-view+json": {
       "model_id": "24fc3eb52859408a95422dd47171fbed",
       "version_major": 2,
       "version_minor": 0
      },
      "text/plain": [
       "Output()"
      ]
     },
     "metadata": {},
     "output_type": "display_data"
    }
   ],
   "source": [
    "import ipywidgets as widgets\n",
    "from IPython.display import display\n",
    "import math\n",
    "import numpy as np\n",
    "import matplotlib.pyplot as plt\n",
    " \n",
    "    \n",
    "TIME_STEP = 0.1\n",
    "END_TIME = 10\n",
    "TIME_STAMP = np.arange(0, END_TIME, TIME_STEP)\n",
    "N_TIME_STEPS = len(TIME_STAMP)\n",
    "\n",
    "lv_speed_float_text = widgets.FloatText()\n",
    "lv_dot_float_text = widgets.FloatText()\n",
    "lv_dec_float_text = widgets.FloatText()\n",
    "lv_speed_hbox = widgets.HBox([widgets.Label(value = 'LV speed (m/s)'), lv_speed_float_text]) \n",
    "lv_dot_hbox = widgets.HBox([widgets.Label(value = 'LV deceleration onset time (s)'), lv_dot_float_text]) \n",
    "lv_dec_hbox = widgets.HBox([widgets.Label(value = 'LV deceleration magnitude (m/s^3)'), lv_dec_float_text])\n",
    "\n",
    "lv_min_speed_check = widgets.Checkbox(description='Stop deceleration', value = True)\n",
    "\n",
    "\n",
    "lv_min_speed_float_text = widgets.FloatText()\n",
    "lv_min_speed_hbox = widgets.HBox([widgets.Label(value = 'LV min speed (m/s)'), lv_min_speed_float_text]) \n",
    "\n",
    "simulate_button = widgets.Button(description = 'Simulate')\n",
    "output = widgets.Output()\n",
    "\n",
    "\n",
    "def on_sim_btn_clicked(b):\n",
    "    output.clear_output()\n",
    "    with output:\n",
    "        acc = np.zeros(len(TIME_STAMP))\n",
    "        dot = lv_dot_float_text.value\n",
    "        dot_time_step = np.nonzero(TIME_STAMP >= dot)[0][0]\n",
    "        acc[dot_time_step:] = -lv_dec_float_text.value\n",
    "        speed = np.full(len(TIME_STAMP), lv_speed_float_text.value)\n",
    "        speed += np.cumsum(acc * TIME_STEP)\n",
    "        if lv_min_speed_check.value:\n",
    "            speed = np.maximum(speed, lv_min_speed_float_text.value)\n",
    "        plt.plot(TIME_STAMP, speed)\n",
    "        plt.show()\n",
    "\n",
    "simulate_button.on_click(on_sim_btn_clicked)\n",
    "\n",
    "def on_check_change(c):\n",
    "    if lv_min_speed_check.value:\n",
    "        lv_min_speed_hbox.layout.visibility = 'visible'\n",
    "        lv_min_speed_hbox.layout.height = 'auto'\n",
    "    else:\n",
    "        lv_min_speed_hbox.layout.visibility = 'hidden'    \n",
    "        lv_min_speed_hbox.layout.height = '0px'\n",
    "\n",
    "lv_min_speed_check.observe(on_check_change, names='value')\n",
    "        \n",
    "display(lv_speed_hbox)\n",
    "display(lv_dot_hbox)\n",
    "display(lv_dec_hbox)\n",
    "display(lv_min_speed_check)\n",
    "display(lv_min_speed_hbox)\n",
    "display(simulate_button)\n",
    "display(output)"
   ]
  },
  {
   "cell_type": "code",
   "execution_count": null,
   "metadata": {},
   "outputs": [],
   "source": []
  }
 ],
 "metadata": {
  "kernelspec": {
   "display_name": "Python 3",
   "language": "python",
   "name": "python3"
  },
  "language_info": {
   "codemirror_mode": {
    "name": "ipython",
    "version": 3
   },
   "file_extension": ".py",
   "mimetype": "text/x-python",
   "name": "python",
   "nbconvert_exporter": "python",
   "pygments_lexer": "ipython3",
   "version": "3.7.6"
  }
 },
 "nbformat": 4,
 "nbformat_minor": 4
}
